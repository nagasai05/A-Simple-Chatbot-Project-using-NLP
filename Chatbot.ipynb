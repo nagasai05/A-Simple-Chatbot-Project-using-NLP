{
 "cells": [
  {
   "cell_type": "code",
   "execution_count": 1,
   "metadata": {},
   "outputs": [],
   "source": [
    "# Required libraries\n",
    "import pandas as pd\n",
    "import numpy as np\n",
    "import re\n",
    "import nltk\n",
    "from nltk.stem import WordNetLemmatizer\n",
    "from nltk import pos_tag\n",
    "from sklearn.metrics import pairwise_distances\n",
    "import pickle"
   ]
  },
  {
   "cell_type": "code",
   "execution_count": 2,
   "metadata": {},
   "outputs": [
    {
     "name": "stdout",
     "output_type": "stream",
     "text": [
      "Reading data\n"
     ]
    }
   ],
   "source": [
    "# Reading data\n",
    "df = pd.read_excel('chat_bot.xlsx')\n",
    "print(\"Reading data\")"
   ]
  },
  {
   "cell_type": "code",
   "execution_count": 3,
   "metadata": {},
   "outputs": [
    {
     "data": {
      "text/html": [
       "<div>\n",
       "<style scoped>\n",
       "    .dataframe tbody tr th:only-of-type {\n",
       "        vertical-align: middle;\n",
       "    }\n",
       "\n",
       "    .dataframe tbody tr th {\n",
       "        vertical-align: top;\n",
       "    }\n",
       "\n",
       "    .dataframe thead th {\n",
       "        text-align: right;\n",
       "    }\n",
       "</style>\n",
       "<table border=\"1\" class=\"dataframe\">\n",
       "  <thead>\n",
       "    <tr style=\"text-align: right;\">\n",
       "      <th></th>\n",
       "      <th>Context</th>\n",
       "      <th>Text Response</th>\n",
       "    </tr>\n",
       "  </thead>\n",
       "  <tbody>\n",
       "    <tr>\n",
       "      <th>0</th>\n",
       "      <td>Tell me about your personality</td>\n",
       "      <td>Just think of me as the ace up your sleeve.</td>\n",
       "    </tr>\n",
       "    <tr>\n",
       "      <th>1</th>\n",
       "      <td>I want to know you better</td>\n",
       "      <td>I can help you work smarter instead of harder</td>\n",
       "    </tr>\n",
       "    <tr>\n",
       "      <th>2</th>\n",
       "      <td>Define yourself</td>\n",
       "      <td>I can't find function defined called yourself.</td>\n",
       "    </tr>\n",
       "    <tr>\n",
       "      <th>3</th>\n",
       "      <td>Describe yourself</td>\n",
       "      <td>All I can describe is I'll be at your service ...</td>\n",
       "    </tr>\n",
       "    <tr>\n",
       "      <th>4</th>\n",
       "      <td>tell me about yourself</td>\n",
       "      <td>People call me Bot. Located in a sever.</td>\n",
       "    </tr>\n",
       "    <tr>\n",
       "      <th>...</th>\n",
       "      <td>...</td>\n",
       "      <td>...</td>\n",
       "    </tr>\n",
       "    <tr>\n",
       "      <th>1500</th>\n",
       "      <td>can we chat</td>\n",
       "      <td>Ofcourse we are doing it</td>\n",
       "    </tr>\n",
       "    <tr>\n",
       "      <th>1501</th>\n",
       "      <td>I'll be back in a few minutes</td>\n",
       "      <td>I'll be waiting.</td>\n",
       "    </tr>\n",
       "    <tr>\n",
       "      <th>1502</th>\n",
       "      <td>I'll be back</td>\n",
       "      <td>All right. I'll be here.</td>\n",
       "    </tr>\n",
       "    <tr>\n",
       "      <th>1503</th>\n",
       "      <td>I'll get back to you in a moment</td>\n",
       "      <td>Till next time.</td>\n",
       "    </tr>\n",
       "    <tr>\n",
       "      <th>1504</th>\n",
       "      <td>I promise to come back</td>\n",
       "      <td>Okay. You know where to find me.</td>\n",
       "    </tr>\n",
       "  </tbody>\n",
       "</table>\n",
       "<p>1505 rows × 2 columns</p>\n",
       "</div>"
      ],
      "text/plain": [
       "                               Context  \\\n",
       "0       Tell me about your personality   \n",
       "1            I want to know you better   \n",
       "2                      Define yourself   \n",
       "3                    Describe yourself   \n",
       "4               tell me about yourself   \n",
       "...                                ...   \n",
       "1500                       can we chat   \n",
       "1501     I'll be back in a few minutes   \n",
       "1502                      I'll be back   \n",
       "1503  I'll get back to you in a moment   \n",
       "1504            I promise to come back   \n",
       "\n",
       "                                          Text Response  \n",
       "0           Just think of me as the ace up your sleeve.  \n",
       "1         I can help you work smarter instead of harder  \n",
       "2        I can't find function defined called yourself.  \n",
       "3     All I can describe is I'll be at your service ...  \n",
       "4               People call me Bot. Located in a sever.  \n",
       "...                                                 ...  \n",
       "1500                           Ofcourse we are doing it  \n",
       "1501                                   I'll be waiting.  \n",
       "1502                           All right. I'll be here.  \n",
       "1503                                    Till next time.  \n",
       "1504                   Okay. You know where to find me.  \n",
       "\n",
       "[1505 rows x 2 columns]"
      ]
     },
     "execution_count": 3,
     "metadata": {},
     "output_type": "execute_result"
    }
   ],
   "source": [
    "df"
   ]
  },
  {
   "cell_type": "code",
   "execution_count": 4,
   "metadata": {},
   "outputs": [],
   "source": [
    "# Initialize lemmatizer\n",
    "lemmatizer = WordNetLemmatizer()"
   ]
  },
  {
   "cell_type": "code",
   "execution_count": 5,
   "metadata": {},
   "outputs": [],
   "source": [
    "# Text Normalization\n",
    "def text_normalization(text):\n",
    "    lema_sent = []\n",
    "    try :\n",
    "        pre_text = text.lower()\n",
    "        words = re.sub(r'[^a-z0-9]',\" \",pre_text)\n",
    "        tag_list = pos_tag(nltk.word_tokenize(words),tagset=None)\n",
    "        for token, pos_token in tag_list:\n",
    "            if pos_token.startswith(\"V\"):\n",
    "                pos_val = \"v\"\n",
    "            elif pos_token.startswith(\"J\"):\n",
    "                pos_val = \"a\"\n",
    "            elif pos_token.startswith(\"R\"):\n",
    "                pos_val = \"r\"\n",
    "            else:\n",
    "                pos_val = \"n\"\n",
    "            lema_token = lemmatizer.lemmatize(token,pos_val)\n",
    "            lema_sent.append(lema_token)\n",
    "        return \" \".join(lema_sent)\n",
    "    except:\n",
    "        pass"
   ]
  },
  {
   "cell_type": "code",
   "execution_count": 13,
   "metadata": {},
   "outputs": [],
   "source": [
    "lemmatized_df = text_normalization(df['Context'][1501])"
   ]
  },
  {
   "cell_type": "code",
   "execution_count": 14,
   "metadata": {},
   "outputs": [
    {
     "data": {
      "text/plain": [
       "'i ll be back in a few minute'"
      ]
     },
     "execution_count": 14,
     "metadata": {},
     "output_type": "execute_result"
    }
   ],
   "source": [
    "lemmatized_df"
   ]
  },
  {
   "cell_type": "code",
   "execution_count": 18,
   "metadata": {},
   "outputs": [],
   "source": [
    "df['lemmatized_text'] = df['Context'].apply(text_normalization)"
   ]
  },
  {
   "cell_type": "code",
   "execution_count": 19,
   "metadata": {},
   "outputs": [
    {
     "data": {
      "text/html": [
       "<div>\n",
       "<style scoped>\n",
       "    .dataframe tbody tr th:only-of-type {\n",
       "        vertical-align: middle;\n",
       "    }\n",
       "\n",
       "    .dataframe tbody tr th {\n",
       "        vertical-align: top;\n",
       "    }\n",
       "\n",
       "    .dataframe thead th {\n",
       "        text-align: right;\n",
       "    }\n",
       "</style>\n",
       "<table border=\"1\" class=\"dataframe\">\n",
       "  <thead>\n",
       "    <tr style=\"text-align: right;\">\n",
       "      <th></th>\n",
       "      <th>Context</th>\n",
       "      <th>Text Response</th>\n",
       "      <th>lemmatized_text</th>\n",
       "    </tr>\n",
       "  </thead>\n",
       "  <tbody>\n",
       "    <tr>\n",
       "      <th>0</th>\n",
       "      <td>Tell me about your personality</td>\n",
       "      <td>Just think of me as the ace up your sleeve.</td>\n",
       "      <td>tell me about your personality</td>\n",
       "    </tr>\n",
       "    <tr>\n",
       "      <th>1</th>\n",
       "      <td>I want to know you better</td>\n",
       "      <td>I can help you work smarter instead of harder</td>\n",
       "      <td>i want to know you good</td>\n",
       "    </tr>\n",
       "    <tr>\n",
       "      <th>2</th>\n",
       "      <td>Define yourself</td>\n",
       "      <td>I can't find function defined called yourself.</td>\n",
       "      <td>define yourself</td>\n",
       "    </tr>\n",
       "    <tr>\n",
       "      <th>3</th>\n",
       "      <td>Describe yourself</td>\n",
       "      <td>All I can describe is I'll be at your service ...</td>\n",
       "      <td>describe yourself</td>\n",
       "    </tr>\n",
       "    <tr>\n",
       "      <th>4</th>\n",
       "      <td>tell me about yourself</td>\n",
       "      <td>People call me Bot. Located in a sever.</td>\n",
       "      <td>tell me about yourself</td>\n",
       "    </tr>\n",
       "    <tr>\n",
       "      <th>...</th>\n",
       "      <td>...</td>\n",
       "      <td>...</td>\n",
       "      <td>...</td>\n",
       "    </tr>\n",
       "    <tr>\n",
       "      <th>1500</th>\n",
       "      <td>can we chat</td>\n",
       "      <td>Ofcourse we are doing it</td>\n",
       "      <td>can we chat</td>\n",
       "    </tr>\n",
       "    <tr>\n",
       "      <th>1501</th>\n",
       "      <td>I'll be back in a few minutes</td>\n",
       "      <td>I'll be waiting.</td>\n",
       "      <td>i ll be back in a few minute</td>\n",
       "    </tr>\n",
       "    <tr>\n",
       "      <th>1502</th>\n",
       "      <td>I'll be back</td>\n",
       "      <td>All right. I'll be here.</td>\n",
       "      <td>i ll be back</td>\n",
       "    </tr>\n",
       "    <tr>\n",
       "      <th>1503</th>\n",
       "      <td>I'll get back to you in a moment</td>\n",
       "      <td>Till next time.</td>\n",
       "      <td>i ll get back to you in a moment</td>\n",
       "    </tr>\n",
       "    <tr>\n",
       "      <th>1504</th>\n",
       "      <td>I promise to come back</td>\n",
       "      <td>Okay. You know where to find me.</td>\n",
       "      <td>i promise to come back</td>\n",
       "    </tr>\n",
       "  </tbody>\n",
       "</table>\n",
       "<p>1505 rows × 3 columns</p>\n",
       "</div>"
      ],
      "text/plain": [
       "                               Context  \\\n",
       "0       Tell me about your personality   \n",
       "1            I want to know you better   \n",
       "2                      Define yourself   \n",
       "3                    Describe yourself   \n",
       "4               tell me about yourself   \n",
       "...                                ...   \n",
       "1500                       can we chat   \n",
       "1501     I'll be back in a few minutes   \n",
       "1502                      I'll be back   \n",
       "1503  I'll get back to you in a moment   \n",
       "1504            I promise to come back   \n",
       "\n",
       "                                          Text Response  \\\n",
       "0           Just think of me as the ace up your sleeve.   \n",
       "1         I can help you work smarter instead of harder   \n",
       "2        I can't find function defined called yourself.   \n",
       "3     All I can describe is I'll be at your service ...   \n",
       "4               People call me Bot. Located in a sever.   \n",
       "...                                                 ...   \n",
       "1500                           Ofcourse we are doing it   \n",
       "1501                                   I'll be waiting.   \n",
       "1502                           All right. I'll be here.   \n",
       "1503                                    Till next time.   \n",
       "1504                   Okay. You know where to find me.   \n",
       "\n",
       "                       lemmatized_text  \n",
       "0       tell me about your personality  \n",
       "1              i want to know you good  \n",
       "2                      define yourself  \n",
       "3                    describe yourself  \n",
       "4               tell me about yourself  \n",
       "...                                ...  \n",
       "1500                       can we chat  \n",
       "1501      i ll be back in a few minute  \n",
       "1502                      i ll be back  \n",
       "1503  i ll get back to you in a moment  \n",
       "1504            i promise to come back  \n",
       "\n",
       "[1505 rows x 3 columns]"
      ]
     },
     "execution_count": 19,
     "metadata": {},
     "output_type": "execute_result"
    }
   ],
   "source": [
    "df"
   ]
  },
  {
   "cell_type": "code",
   "execution_count": 25,
   "metadata": {},
   "outputs": [],
   "source": [
    "# After finishing the normalization of text, we should proceed to tfidf vectorization\n",
    "from sklearn.feature_extraction.text import TfidfVectorizer\n",
    "tfidf = TfidfVectorizer()"
   ]
  },
  {
   "cell_type": "code",
   "execution_count": 26,
   "metadata": {},
   "outputs": [],
   "source": [
    "x_tfidf = tfidf.fit_transform(df['lemmatized_text']).toarray()"
   ]
  },
  {
   "cell_type": "code",
   "execution_count": 27,
   "metadata": {
    "collapsed": true
   },
   "outputs": [
    {
     "data": {
      "text/plain": [
       "array([[0.        , 0.        , 0.41437693, ..., 0.        , 0.        ,\n",
       "        0.        ],\n",
       "       [0.        , 0.        , 0.        , ..., 0.        , 0.        ,\n",
       "        0.        ],\n",
       "       [0.        , 0.        , 0.        , ..., 0.        , 0.64124787,\n",
       "        0.        ],\n",
       "       ...,\n",
       "       [0.        , 0.        , 0.        , ..., 0.        , 0.        ,\n",
       "        0.        ],\n",
       "       [0.        , 0.        , 0.        , ..., 0.        , 0.        ,\n",
       "        0.        ],\n",
       "       [0.        , 0.        , 0.        , ..., 0.        , 0.        ,\n",
       "        0.        ]])"
      ]
     },
     "execution_count": 27,
     "metadata": {},
     "output_type": "execute_result"
    }
   ],
   "source": [
    "x_tfidf"
   ]
  },
  {
   "cell_type": "code",
   "execution_count": 28,
   "metadata": {},
   "outputs": [],
   "source": [
    "def validation(x_tfidf, query_ask):\n",
    "    cos = 1-pairwise_distances(x_tfidf, query_ask,metric='cosine')\n",
    "    ind = cos.argmax()\n",
    "    threshold = cos[ind]\n",
    "    if threshold > 0.2:\n",
    "        result = df['Text Response'].loc[ind]\n",
    "    else:\n",
    "        result = df['Text Response'].loc[51]\n",
    "    return result"
   ]
  },
  {
   "cell_type": "code",
   "execution_count": 40,
   "metadata": {},
   "outputs": [
    {
     "name": "stdout",
     "output_type": "stream",
     "text": [
      "Enter any message: what happened\n",
      "bot replays: I don't what is happening in backend\n"
     ]
    }
   ],
   "source": [
    "user_input = input(\"Enter any message: \")\n",
    "query_ask = text_normalization(user_input)\n",
    "query_ask = tfidf.transform([query_ask]).toarray()\n",
    "response = validation(x_tfidf,query_ask)\n",
    "print(\"bot replays:\",response)\n"
   ]
  },
  {
   "cell_type": "code",
   "execution_count": null,
   "metadata": {},
   "outputs": [],
   "source": []
  }
 ],
 "metadata": {
  "kernelspec": {
   "display_name": "Python 3",
   "language": "python",
   "name": "python3"
  },
  "language_info": {
   "codemirror_mode": {
    "name": "ipython",
    "version": 3
   },
   "file_extension": ".py",
   "mimetype": "text/x-python",
   "name": "python",
   "nbconvert_exporter": "python",
   "pygments_lexer": "ipython3",
   "version": "3.7.5"
  }
 },
 "nbformat": 4,
 "nbformat_minor": 2
}
